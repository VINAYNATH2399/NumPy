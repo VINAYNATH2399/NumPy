{
 "cells": [
  {
   "cell_type": "markdown",
   "id": "7c5c764b",
   "metadata": {},
   "source": [
    "# Installing Numpy"
   ]
  },
  {
   "cell_type": "code",
   "execution_count": 1,
   "id": "73caa6fd",
   "metadata": {},
   "outputs": [
    {
     "name": "stdout",
     "output_type": "stream",
     "text": [
      "Collecting numpy\n",
      "  Downloading numpy-1.22.4-cp310-cp310-win_amd64.whl (14.7 MB)\n",
      "     ---------------------------------------- 14.7/14.7 MB 3.6 MB/s eta 0:00:00\n",
      "Installing collected packages: numpy\n",
      "Successfully installed numpy-1.22.4\n",
      "Note: you may need to restart the kernel to use updated packages.\n"
     ]
    },
    {
     "name": "stderr",
     "output_type": "stream",
     "text": [
      "WARNING: You are using pip version 22.0.4; however, version 22.1.2 is available.\n",
      "You should consider upgrading via the 'C:\\Users\\User\\AppData\\Local\\Programs\\Python\\Python310\\python.exe -m pip install --upgrade pip' command.\n"
     ]
    }
   ],
   "source": [
    "pip install numpy"
   ]
  },
  {
   "cell_type": "markdown",
   "id": "127e595f",
   "metadata": {},
   "source": [
    "# How to import Numpy"
   ]
  },
  {
   "cell_type": "code",
   "execution_count": 1,
   "id": "278ab4b7",
   "metadata": {},
   "outputs": [],
   "source": [
    "import numpy as np"
   ]
  },
  {
   "cell_type": "markdown",
   "id": "c2d6dffc",
   "metadata": {},
   "source": [
    "# How to create a basic array"
   ]
  },
  {
   "cell_type": "markdown",
   "id": "9e0d8481",
   "metadata": {},
   "source": [
    " To create a Numpy array,you can use the function np.array()"
   ]
  },
  {
   "cell_type": "markdown",
   "id": "ab6e0ae5",
   "metadata": {},
   "source": [
    "# 2D"
   ]
  },
  {
   "cell_type": "code",
   "execution_count": 3,
   "id": "52119914",
   "metadata": {},
   "outputs": [
    {
     "name": "stdout",
     "output_type": "stream",
     "text": [
      "[1 2 3 4 5 6]\n",
      "\n"
     ]
    }
   ],
   "source": [
    "a = np.array([1,2,3,4,5,6])\n",
    "print(a)\n",
    "print()"
   ]
  },
  {
   "cell_type": "markdown",
   "id": "7ffbbad8",
   "metadata": {},
   "source": [
    "# 3D"
   ]
  },
  {
   "cell_type": "code",
   "execution_count": 4,
   "id": "82697684",
   "metadata": {},
   "outputs": [
    {
     "name": "stdout",
     "output_type": "stream",
     "text": [
      "[[1 2 3]\n",
      " [4 5 6]\n",
      " [7 8 9]]\n"
     ]
    }
   ],
   "source": [
    "b = np.array([[1,2,3],[4,5,6],[7,8,9]])\n",
    "print(b)"
   ]
  },
  {
   "cell_type": "code",
   "execution_count": 5,
   "id": "310742fd",
   "metadata": {},
   "outputs": [
    {
     "name": "stdout",
     "output_type": "stream",
     "text": [
      "[1 2 3]\n"
     ]
    }
   ],
   "source": [
    "print(b[0])"
   ]
  },
  {
   "cell_type": "code",
   "execution_count": 7,
   "id": "9c9be0ac",
   "metadata": {},
   "outputs": [
    {
     "name": "stdout",
     "output_type": "stream",
     "text": [
      "[4 5 6]\n",
      "[7 8 9]\n"
     ]
    }
   ],
   "source": [
    "print(b[1])\n",
    "print(b[2])"
   ]
  },
  {
   "cell_type": "markdown",
   "id": "01d29a2c",
   "metadata": {},
   "source": [
    "# you can easily create an array filled with 0's:"
   ]
  },
  {
   "cell_type": "code",
   "execution_count": 9,
   "id": "7a0e479f",
   "metadata": {},
   "outputs": [
    {
     "name": "stdout",
     "output_type": "stream",
     "text": [
      "[0. 0. 0.]\n"
     ]
    }
   ],
   "source": [
    "a = np.zeros(3)\n",
    "print(a)"
   ]
  },
  {
   "cell_type": "code",
   "execution_count": 10,
   "id": "fb661e22",
   "metadata": {},
   "outputs": [
    {
     "name": "stdout",
     "output_type": "stream",
     "text": [
      "[0. 0. 0. 0. 0. 0. 0. 0. 0.]\n"
     ]
    }
   ],
   "source": [
    "b = np.zeros(9)\n",
    "print(b)"
   ]
  },
  {
   "cell_type": "markdown",
   "id": "bba61e0d",
   "metadata": {},
   "source": [
    "# Or an array filled with 1's"
   ]
  },
  {
   "cell_type": "code",
   "execution_count": 11,
   "id": "9d8890c0",
   "metadata": {},
   "outputs": [
    {
     "name": "stdout",
     "output_type": "stream",
     "text": [
      "[1. 1. 1. 1. 1.]\n"
     ]
    }
   ],
   "source": [
    "b = np.ones(5)\n",
    "print(b)"
   ]
  },
  {
   "cell_type": "markdown",
   "id": "806bbd60",
   "metadata": {},
   "source": [
    "# You can create an array with a range of elements"
   ]
  },
  {
   "cell_type": "code",
   "execution_count": 12,
   "id": "bf9a9ba2",
   "metadata": {},
   "outputs": [
    {
     "name": "stdout",
     "output_type": "stream",
     "text": [
      "[0 1 2 3 4 5 6 7 8 9]\n"
     ]
    }
   ],
   "source": [
    "a = np.arange(0,10)\n",
    "print(a)"
   ]
  },
  {
   "cell_type": "code",
   "execution_count": 13,
   "id": "07f1b2e0",
   "metadata": {},
   "outputs": [
    {
     "name": "stdout",
     "output_type": "stream",
     "text": [
      "[0 2 4 6 8]\n"
     ]
    }
   ],
   "source": [
    "a = np.arange(0,10,2)\n",
    "print(a)"
   ]
  },
  {
   "cell_type": "markdown",
   "id": "31b67e62",
   "metadata": {},
   "source": [
    "# You can also use np.linspace() to create an array with values that are spaced linearly in a specified interval"
   ]
  },
  {
   "cell_type": "code",
   "execution_count": 14,
   "id": "1721dbd8",
   "metadata": {},
   "outputs": [
    {
     "name": "stdout",
     "output_type": "stream",
     "text": [
      "[ 0.   2.5  5.   7.5 10. ]\n"
     ]
    }
   ],
   "source": [
    "a = np.linspace(0,10,num=5)\n",
    "print(a)"
   ]
  },
  {
   "cell_type": "markdown",
   "id": "17c0732c",
   "metadata": {},
   "source": [
    "# Specifying your data type "
   ]
  },
  {
   "cell_type": "code",
   "execution_count": 16,
   "id": "801b9f9b",
   "metadata": {},
   "outputs": [
    {
     "name": "stdout",
     "output_type": "stream",
     "text": [
      "[1 1 1]\n"
     ]
    }
   ],
   "source": [
    "a = np.ones(3,dtype = np.int64)\n",
    "print(a)"
   ]
  },
  {
   "cell_type": "code",
   "execution_count": 20,
   "id": "bc0f9161",
   "metadata": {},
   "outputs": [
    {
     "name": "stdout",
     "output_type": "stream",
     "text": [
      "[1 1 1 1 1]\n"
     ]
    }
   ],
   "source": [
    "a = np.ones(5,dtype = np.int32)\n",
    "print(a)"
   ]
  },
  {
   "cell_type": "markdown",
   "id": "5f89aeaa",
   "metadata": {},
   "source": [
    "# Adding, removing, and sorting elements"
   ]
  },
  {
   "cell_type": "markdown",
   "id": "9a0f824e",
   "metadata": {},
   "source": [
    "sorting an element is simple with np.sort(). You can specify the axis, kind, and order when you call the function."
   ]
  },
  {
   "cell_type": "code",
   "execution_count": 21,
   "id": "929f157b",
   "metadata": {},
   "outputs": [
    {
     "name": "stdout",
     "output_type": "stream",
     "text": [
      "[1 4 5 6 8]\n"
     ]
    }
   ],
   "source": [
    "a = np.array([1,4,6,8,5])\n",
    "sort_a = np.sort(a)\n",
    "print(sort_a)"
   ]
  },
  {
   "cell_type": "code",
   "execution_count": 22,
   "id": "ea1cd08d",
   "metadata": {},
   "outputs": [
    {
     "name": "stdout",
     "output_type": "stream",
     "text": [
      "[0 1 4 2 3]\n"
     ]
    }
   ],
   "source": [
    "a = np.array([1,4,6,8,5])\n",
    "sort_a = np.argsort(a)\n",
    "print(sort_a)"
   ]
  },
  {
   "cell_type": "markdown",
   "id": "db3f41e2",
   "metadata": {},
   "source": [
    "# Concatenate()"
   ]
  },
  {
   "cell_type": "code",
   "execution_count": 26,
   "id": "a8124c2f",
   "metadata": {},
   "outputs": [
    {
     "name": "stdout",
     "output_type": "stream",
     "text": [
      "[[1 2]\n",
      " [3 4]\n",
      " [5 6]]\n"
     ]
    }
   ],
   "source": [
    "a = np.array([[1,2],[3,4]])\n",
    "b = np.array([[5,6]])\n",
    "con = np.concatenate((a,b), axis = 0)\n",
    "print(con)"
   ]
  },
  {
   "cell_type": "markdown",
   "id": "e582b8f3",
   "metadata": {},
   "source": [
    "# How do you know the shape and size of an array?"
   ]
  },
  {
   "cell_type": "code",
   "execution_count": 27,
   "id": "000f03eb",
   "metadata": {},
   "outputs": [
    {
     "name": "stdout",
     "output_type": "stream",
     "text": [
      "3\n"
     ]
    }
   ],
   "source": [
    "array_example = np.array([[[0,1,2,3],[4,5,6,7]],\n",
    "                         [[0,1,2,3],[4,5,6,7]]])\n",
    "print(array_example.ndim)"
   ]
  },
  {
   "cell_type": "code",
   "execution_count": 28,
   "id": "5be09f87",
   "metadata": {},
   "outputs": [
    {
     "name": "stdout",
     "output_type": "stream",
     "text": [
      "16\n"
     ]
    }
   ],
   "source": [
    "print(array_example.size)"
   ]
  },
  {
   "cell_type": "code",
   "execution_count": 29,
   "id": "bf22375e",
   "metadata": {},
   "outputs": [
    {
     "name": "stdout",
     "output_type": "stream",
     "text": [
      "(2, 2, 4)\n"
     ]
    }
   ],
   "source": [
    "print(array_example.shape)"
   ]
  },
  {
   "cell_type": "markdown",
   "id": "b0a88ddc",
   "metadata": {},
   "source": [
    "# Reshape an array"
   ]
  },
  {
   "cell_type": "code",
   "execution_count": 30,
   "id": "2da5b59c",
   "metadata": {},
   "outputs": [
    {
     "name": "stdout",
     "output_type": "stream",
     "text": [
      "Before reshape \n",
      " [0 1 2 3 4 5]\n",
      "\n",
      "After reshape \n",
      " [[0 1]\n",
      " [2 3]\n",
      " [4 5]]\n"
     ]
    }
   ],
   "source": [
    "a = np.arange(6)\n",
    "print('Before reshape \\n',a)\n",
    "print()\n",
    "b = a.reshape(3,2)\n",
    "print('After reshape \\n', b)"
   ]
  },
  {
   "cell_type": "markdown",
   "id": "c56fe62d",
   "metadata": {},
   "source": [
    "# Indexing and slicing"
   ]
  },
  {
   "cell_type": "markdown",
   "id": "751cab31",
   "metadata": {},
   "source": [
    "You can index and slice Numpy arrays in the same ways you can slice Python lists"
   ]
  },
  {
   "cell_type": "code",
   "execution_count": 31,
   "id": "3ec8835d",
   "metadata": {},
   "outputs": [
    {
     "name": "stdout",
     "output_type": "stream",
     "text": [
      "2\n"
     ]
    }
   ],
   "source": [
    "data = np.array([1,2,3,4])\n",
    "# print value at index 1\n",
    "print(data[1])"
   ]
  },
  {
   "cell_type": "code",
   "execution_count": 32,
   "id": "acef5b27",
   "metadata": {},
   "outputs": [
    {
     "name": "stdout",
     "output_type": "stream",
     "text": [
      "[1 2 3]\n"
     ]
    }
   ],
   "source": [
    "data = np.array([1,2,3,4])\n",
    "# print value from 0 to 2\n",
    "print(data[0:3])"
   ]
  },
  {
   "cell_type": "code",
   "execution_count": 33,
   "id": "91cd9698",
   "metadata": {},
   "outputs": [
    {
     "name": "stdout",
     "output_type": "stream",
     "text": [
      "[4 3 2 1]\n"
     ]
    }
   ],
   "source": [
    "data = np.array([1,2,3,4])\n",
    "# print value in reverse\n",
    "print(data[::-1])"
   ]
  },
  {
   "cell_type": "markdown",
   "id": "ed995a3f",
   "metadata": {},
   "source": [
    "# If you want to select values from your array that fulfill certain conditions, it's straightforword with NumPy."
   ]
  },
  {
   "cell_type": "code",
   "execution_count": 34,
   "id": "3e2eb5b5",
   "metadata": {},
   "outputs": [
    {
     "name": "stdout",
     "output_type": "stream",
     "text": [
      "[1 2 3 4] \n",
      "\n"
     ]
    }
   ],
   "source": [
    "a = np.array([[1,2,3,4],[5,6,7,8],[9,10,11,12]])\n",
    "#print all of the values in the array that are less than 5\n",
    "print(a[a<5],'\\n')"
   ]
  },
  {
   "cell_type": "code",
   "execution_count": 35,
   "id": "20e664b5",
   "metadata": {},
   "outputs": [
    {
     "name": "stdout",
     "output_type": "stream",
     "text": [
      "[ 5  6  7  8  9 10 11 12] \n",
      "\n"
     ]
    }
   ],
   "source": [
    "a = np.array([[1,2,3,4],[5,6,7,8],[9,10,11,12]])\n",
    "#print numbers that are equal to or greater than 5\n",
    "five_up = (a>=5)\n",
    "print(a[five_up],'\\n')"
   ]
  },
  {
   "cell_type": "code",
   "execution_count": 36,
   "id": "46c623f6",
   "metadata": {},
   "outputs": [
    {
     "name": "stdout",
     "output_type": "stream",
     "text": [
      "[ 2  4  6  8 10 12] \n",
      "\n"
     ]
    }
   ],
   "source": [
    "a = np.array([[1,2,3,4],[5,6,7,8],[9,10,11,12]])\n",
    "#You can select elements that are divisible by 2\n",
    "print(a[a%2==0],'\\n')"
   ]
  },
  {
   "cell_type": "code",
   "execution_count": 37,
   "id": "1a81693c",
   "metadata": {},
   "outputs": [
    {
     "name": "stdout",
     "output_type": "stream",
     "text": [
      "[ 3  4  5  6  7  8  9 10] \n",
      "\n"
     ]
    }
   ],
   "source": [
    "a = np.array([[1,2,3,4],[5,6,7,8],[9,10,11,12]])\n",
    "# n select elements that satisfy two condition using the & and | operators\n",
    "c = a[(a>2)&(a<11)]\n",
    "print(c,'\\n')"
   ]
  },
  {
   "cell_type": "code",
   "execution_count": 38,
   "id": "580bac04",
   "metadata": {},
   "outputs": [
    {
     "name": "stdout",
     "output_type": "stream",
     "text": [
      "[[False False False False]\n",
      " [ True  True  True  True]\n",
      " [ True  True  True  True]]\n"
     ]
    }
   ],
   "source": [
    "a = np.array([[1,2,3,4],[5,6,7,8],[9,10,11,12]])\n",
    "# check condition\n",
    "five_up_1 = (a>5)|(a == 5)\n",
    "print(five_up_1)"
   ]
  },
  {
   "cell_type": "markdown",
   "id": "b83604a9",
   "metadata": {},
   "source": [
    "# Basic array operations"
   ]
  },
  {
   "cell_type": "code",
   "execution_count": 39,
   "id": "dacbf92b",
   "metadata": {},
   "outputs": [
    {
     "name": "stdout",
     "output_type": "stream",
     "text": [
      "Addition \n",
      " [[ 2  4  6]\n",
      " [ 8 10 12]]\n",
      "Substraction \n",
      " [[0 0 0]\n",
      " [0 0 0]]\n",
      "Multiply \n",
      " [[ 1  4  9]\n",
      " [16 25 36]]\n"
     ]
    }
   ],
   "source": [
    "a = np.array([[1,2,3],[4,5,6]])\n",
    "b = np.array([[1,2,3],[4,5,6]])\n",
    "print('Addition \\n',a+b)\n",
    "print('Substraction \\n',a-b)\n",
    "print('Multiply \\n',a*b)"
   ]
  },
  {
   "cell_type": "markdown",
   "id": "6647fcc8",
   "metadata": {},
   "source": [
    "# If you want to find the sum of the elements in an array, you'd use, for sum(),max() & min()"
   ]
  },
  {
   "cell_type": "code",
   "execution_count": 40,
   "id": "a51ca84d",
   "metadata": {},
   "outputs": [
    {
     "name": "stdout",
     "output_type": "stream",
     "text": [
      "Sum of array \n",
      " 10\n",
      "\n",
      " min value\n",
      " 1\n",
      "\n",
      " max value\n",
      " 4\n"
     ]
    }
   ],
   "source": [
    "a = np.array([1,2,3,4])\n",
    "\n",
    "print('Sum of array \\n',a.sum())\n",
    "print('\\n min value\\n',a.min())\n",
    "print('\\n max value\\n',a.max())"
   ]
  },
  {
   "cell_type": "markdown",
   "id": "ef011fe9",
   "metadata": {},
   "source": [
    "# How to get unique items with np.unique"
   ]
  },
  {
   "cell_type": "code",
   "execution_count": 46,
   "id": "f6e6811b",
   "metadata": {},
   "outputs": [
    {
     "name": "stdout",
     "output_type": "stream",
     "text": [
      "[11 12 13 14 15 16 17 18 19 20]\n"
     ]
    }
   ],
   "source": [
    "a = np.array([11,11,12,13,14,15,16,17,12,13,11,14,18,19,20])\n",
    "unique_values = np.unique(a)\n",
    "print(unique_values)"
   ]
  },
  {
   "cell_type": "markdown",
   "id": "aa4b184b",
   "metadata": {},
   "source": [
    "# You can use .transpose() or .T to reverse or change the change the axes of an array according to the value you specify."
   ]
  },
  {
   "cell_type": "code",
   "execution_count": 47,
   "id": "9b4931b4",
   "metadata": {},
   "outputs": [
    {
     "name": "stdout",
     "output_type": "stream",
     "text": [
      "[[0 1 2]\n",
      " [3 4 5]] \n",
      "\n",
      "[[0 3]\n",
      " [1 4]\n",
      " [2 5]] \n",
      "\n"
     ]
    }
   ],
   "source": [
    "data = np.arange(6).reshape(2,3)\n",
    "print(data, '\\n')\n",
    "#using data.transpose()\n",
    "print(data.transpose(),'\\n')"
   ]
  },
  {
   "cell_type": "code",
   "execution_count": 48,
   "id": "cefc4e75",
   "metadata": {},
   "outputs": [
    {
     "name": "stdout",
     "output_type": "stream",
     "text": [
      "[[0 3]\n",
      " [1 4]\n",
      " [2 5]]\n"
     ]
    }
   ],
   "source": [
    "#using the data.T\n",
    "print(data.T)"
   ]
  },
  {
   "cell_type": "markdown",
   "id": "59cbd363",
   "metadata": {},
   "source": [
    "# How to reverse an array"
   ]
  },
  {
   "cell_type": "markdown",
   "id": "22550359",
   "metadata": {},
   "source": [
    "NumPy's np.flip() function allows you to flip, or reverse, the contenbts of an array along an axis."
   ]
  },
  {
   "cell_type": "code",
   "execution_count": 61,
   "id": "fe284e1e",
   "metadata": {},
   "outputs": [],
   "source": [
    "import numpy as np"
   ]
  },
  {
   "cell_type": "code",
   "execution_count": 62,
   "id": "63ab78e7",
   "metadata": {
    "scrolled": true
   },
   "outputs": [
    {
     "name": "stdout",
     "output_type": "stream",
     "text": [
      "[[12 11 10  9]\n",
      " [ 8  7  6  5]\n",
      " [ 4  3  2  1]]\n"
     ]
    }
   ],
   "source": [
    "arr_2d = np.array([[1,2,3,4],[5,6,7,8],[9,10,11,12]])\n",
    "reversed_arr = np.flip(arr_2d)\n",
    "print(reversed_arr)"
   ]
  },
  {
   "cell_type": "code",
   "execution_count": 60,
   "id": "996a0e36",
   "metadata": {},
   "outputs": [
    {
     "name": "stdout",
     "output_type": "stream",
     "text": [
      "Original Array is : ['A' 's' 'k' 'P' 'y' 't' 'h' 'o' 'n']\n",
      "Resultant Reversed Array: ['n' 'o' 'h' 't' 'y' 'P' 'k' 's' 'A']\n"
     ]
    }
   ],
   "source": [
    "import numpy as np\n",
    " \n",
    "#The original NumPy array\n",
    "new_arr=np.array(['A','s','k','P','y','t','h','o','n'])\n",
    "print(\"Original Array is :\",new_arr)\n",
    " \n",
    "#reversing using flip() Method\n",
    "res_arr=np.flip(new_arr)\n",
    "print(\"Resultant Reversed Array:\",res_arr)"
   ]
  },
  {
   "cell_type": "markdown",
   "id": "b08631f4",
   "metadata": {},
   "source": [
    "# Reshaping and flattening multidemensional arrays"
   ]
  },
  {
   "cell_type": "code",
   "execution_count": 63,
   "id": "ce45d2e8",
   "metadata": {},
   "outputs": [
    {
     "name": "stdout",
     "output_type": "stream",
     "text": [
      "Original array \n",
      " [[ 1  2  3  4]\n",
      " [ 5  6  7  8]\n",
      " [ 9 10 11 12]]\n"
     ]
    }
   ],
   "source": [
    "x = np.array([[1,2,3,4],[5,6,7,8],[9,10,11,12]])\n",
    "print('Original array \\n', x)"
   ]
  },
  {
   "cell_type": "code",
   "execution_count": 65,
   "id": "28092fc3",
   "metadata": {},
   "outputs": [
    {
     "name": "stdout",
     "output_type": "stream",
     "text": [
      "\n",
      " flatten() method \n",
      " [ 1  2  3  4  5  6  7  8  9 10 11 12]\n"
     ]
    }
   ],
   "source": [
    "#using flatten() method\n",
    "print('\\n flatten() method \\n', x.flatten())"
   ]
  },
  {
   "cell_type": "code",
   "execution_count": 66,
   "id": "3900a35d",
   "metadata": {},
   "outputs": [
    {
     "name": "stdout",
     "output_type": "stream",
     "text": [
      "\n",
      " ravel() method \n",
      " [99  2  3  4  5  6  7  8  9 10 11 12]\n"
     ]
    }
   ],
   "source": [
    "#using ravel() method in new try\n",
    "x2 = x.ravel()\n",
    "x2[0] = 99\n",
    "print('\\n ravel() method \\n',x2)"
   ]
  },
  {
   "cell_type": "markdown",
   "id": "5c8bc412",
   "metadata": {},
   "source": [
    "# How to save and load NumPy objects"
   ]
  },
  {
   "cell_type": "code",
   "execution_count": 67,
   "id": "580dbbe5",
   "metadata": {},
   "outputs": [],
   "source": [
    "a = np.array([1,2,3,4,5,6])\n",
    "# save file\n",
    "np.save('filename',a)"
   ]
  },
  {
   "cell_type": "code",
   "execution_count": 68,
   "id": "f1217d66",
   "metadata": {},
   "outputs": [
    {
     "name": "stdout",
     "output_type": "stream",
     "text": [
      "[1 2 3 4 5 6]\n"
     ]
    }
   ],
   "source": [
    "# load file\n",
    "b = np.load('filename.npy')\n",
    "print(b)"
   ]
  },
  {
   "cell_type": "markdown",
   "id": "f551afed",
   "metadata": {},
   "source": [
    "# You can save a NumPy array as a plain text file like a .csv or .txt file with np.savetxt."
   ]
  },
  {
   "cell_type": "code",
   "execution_count": 70,
   "id": "f89c039e",
   "metadata": {},
   "outputs": [],
   "source": [
    "csv_arr = np.array([1,2,3,4,5,6,7,8,9])\n",
    "# save file in csv\n",
    "np.savetxt('new_file.csv',csv_arr)"
   ]
  },
  {
   "cell_type": "code",
   "execution_count": 71,
   "id": "1230ade9",
   "metadata": {},
   "outputs": [
    {
     "name": "stdout",
     "output_type": "stream",
     "text": [
      "[1. 2. 3. 4. 5. 6. 7. 8. 9.]\n"
     ]
    }
   ],
   "source": [
    "#load the new_file.csv\n",
    "a = np.loadtxt('new_file.csv')\n",
    "print(a)"
   ]
  },
  {
   "cell_type": "markdown",
   "id": "beb4a259",
   "metadata": {},
   "source": [
    "# Plotting array with Matplotlib"
   ]
  },
  {
   "cell_type": "markdown",
   "id": "7fce5612",
   "metadata": {},
   "source": [
    "If you need to generate a plot for your values, it's very simple with Matplotlib"
   ]
  },
  {
   "cell_type": "code",
   "execution_count": 77,
   "id": "133820d5",
   "metadata": {},
   "outputs": [
    {
     "name": "stdout",
     "output_type": "stream",
     "text": [
      "Collecting matplotlib\n",
      "  Downloading matplotlib-3.5.2-cp310-cp310-win_amd64.whl (7.2 MB)\n",
      "     ---------------------------------------- 7.2/7.2 MB 2.7 MB/s eta 0:00:00\n",
      "Collecting kiwisolver>=1.0.1\n",
      "  Downloading kiwisolver-1.4.3-cp310-cp310-win_amd64.whl (55 kB)\n",
      "     ---------------------------------------- 55.3/55.3 KB 2.8 MB/s eta 0:00:00\n",
      "Collecting fonttools>=4.22.0\n",
      "  Downloading fonttools-4.33.3-py3-none-any.whl (930 kB)\n",
      "     -------------------------------------- 930.9/930.9 KB 4.5 MB/s eta 0:00:00\n",
      "Requirement already satisfied: pyparsing>=2.2.1 in c:\\users\\user\\appdata\\local\\programs\\python\\python310\\lib\\site-packages (from matplotlib) (3.0.7)\n",
      "Requirement already satisfied: python-dateutil>=2.7 in c:\\users\\user\\appdata\\local\\programs\\python\\python310\\lib\\site-packages (from matplotlib) (2.8.2)\n",
      "Collecting cycler>=0.10\n",
      "  Downloading cycler-0.11.0-py3-none-any.whl (6.4 kB)\n",
      "Collecting pillow>=6.2.0\n",
      "  Downloading Pillow-9.1.1-cp310-cp310-win_amd64.whl (3.3 MB)\n",
      "     ---------------------------------------- 3.3/3.3 MB 3.1 MB/s eta 0:00:00\n",
      "Requirement already satisfied: numpy>=1.17 in c:\\users\\user\\appdata\\local\\programs\\python\\python310\\lib\\site-packages (from matplotlib) (1.22.4)\n",
      "Requirement already satisfied: packaging>=20.0 in c:\\users\\user\\appdata\\local\\programs\\python\\python310\\lib\\site-packages (from matplotlib) (21.3)\n",
      "Requirement already satisfied: six>=1.5 in c:\\users\\user\\appdata\\local\\programs\\python\\python310\\lib\\site-packages (from python-dateutil>=2.7->matplotlib) (1.16.0)\n",
      "Installing collected packages: pillow, kiwisolver, fonttools, cycler, matplotlib\n",
      "Successfully installed cycler-0.11.0 fonttools-4.33.3 kiwisolver-1.4.3 matplotlib-3.5.2 pillow-9.1.1\n",
      "Note: you may need to restart the kernel to use updated packages.\n"
     ]
    },
    {
     "name": "stderr",
     "output_type": "stream",
     "text": [
      "WARNING: You are using pip version 22.0.4; however, version 22.1.2 is available.\n",
      "You should consider upgrading via the 'C:\\Users\\User\\AppData\\Local\\Programs\\Python\\Python310\\python.exe -m pip install --upgrade pip' command.\n"
     ]
    }
   ],
   "source": [
    "pip install matplotlib"
   ]
  },
  {
   "cell_type": "code",
   "execution_count": 1,
   "id": "9f5b170e",
   "metadata": {},
   "outputs": [],
   "source": [
    "from matplotlib import pyplot as plt"
   ]
  },
  {
   "cell_type": "code",
   "execution_count": 3,
   "id": "a13e344b",
   "metadata": {},
   "outputs": [],
   "source": [
    "import numpy as np"
   ]
  },
  {
   "cell_type": "code",
   "execution_count": 4,
   "id": "c74c0683",
   "metadata": {},
   "outputs": [
    {
     "data": {
      "image/png": "[encoded data removed]",
      "text/plain": [
       "<Figure size 432x288 with 1 Axes>"
      ]
     },
     "metadata": {
      "needs_background": "light"
     },
     "output_type": "display_data"
    }
   ],
   "source": [
    "a = np.array([2,1,5,7,4,6,8,14,10,9,18,20,22])\n",
    "plt.plot(a)\n",
    "plt.show()"
   ]
  },
  {
   "cell_type": "code",
   "execution_count": 5,
   "id": "5d459e63",
   "metadata": {},
   "outputs": [
    {
     "data": {
      "image/png": "[encoded data removed]",
      "text/plain": [
       "<Figure size 432x288 with 1 Axes>"
      ]
     },
     "metadata": {
      "needs_background": "light"
     },
     "output_type": "display_data"
    }
   ],
   "source": [
    "# you can plot a 1D array like this:\n",
    "x = np.linspace(0,5,20)\n",
    "y = np.linspace(2,10,20)\n",
    "plt.plot(x,y,'purple') # Line\n",
    "plt.plot(x,y,'o') # Dots\n",
    "plt.show()"
   ]
  },
  {
   "cell_type": "code",
   "execution_count": null,
   "id": "bd130d1a",
   "metadata": {},
   "outputs": [],
   "source": []
  }
 ],
 "metadata": {
  "kernelspec": {
   "display_name": "Python 3 (ipykernel)",
   "language": "python",
   "name": "python3"
  },
  "language_info": {
   "codemirror_mode": {
    "name": "ipython",
    "version": 3
   },
   "file_extension": ".py",
   "mimetype": "text/x-python",
   "name": "python",
   "nbconvert_exporter": "python",
   "pygments_lexer": "ipython3",
   "version": "3.10.3"
  }
 },
 "nbformat": 4,
 "nbformat_minor": 5
}
